{
 "cells": [
  {
   "cell_type": "code",
   "source": [
    "import pandas as pd\n",
    "import matplotlib.pyplot as plt\n",
    "\n",
    "life_url = 'https://raw.githubusercontent.com/timothy113/malawi-life-unemployment/main/malawi_life_expectancy_2000_2023.csv'\n",
    "unemp_url = 'https://raw.githubusercontent.com/timothy113/malawi-life-unemployment/main/malawi_unemployment_rate_2000_2023.csv'\n",
    "\n",
    "life = pd.read_csv(life_url)\n",
    "unemp = pd.read_csv(unemp_url)\n",
    "df = pd.merge(life, unemp, on='Year')\n",
    "\n",
    "df.plot(x='Year', y=['Life Expectancy', 'Unemployment Rate'], kind='line')\n",
    "plt.title('Malawi: Life Expectancy vs Unemployment')\n",
    "plt.grid()\n",
    "plt.show()"
   ],
   "metadata": {},
   "execution_count": None,
   "outputs": []
  }
 ],
 "metadata": {},
 "nbformat": 4,
 "nbformat_minor": 4
}
